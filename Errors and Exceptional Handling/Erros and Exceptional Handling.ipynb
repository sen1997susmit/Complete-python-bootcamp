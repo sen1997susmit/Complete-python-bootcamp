{
 "cells": [
  {
   "cell_type": "markdown",
   "metadata": {},
   "source": [
    "Errors detected during execution are called exceptions and are not unconditionally fatal."
   ]
  },
  {
   "cell_type": "code",
   "execution_count": 3,
   "metadata": {
    "collapsed": false
   },
   "outputs": [
    {
     "name": "stdout",
     "output_type": "stream",
     "text": [
      "Content written successfully\n"
     ]
    }
   ],
   "source": [
    "#this file got created due to 'w' tag i.e, write permissions\n",
    "try:\n",
    "    t = open('file1.txt', 'w')\n",
    "    t.write('Test write this line')\n",
    "except IOError:\n",
    "    print ' Can not find specfied filename to read '\n",
    "else:\n",
    "    print 'Content written successfully'\n",
    "    t.close()"
   ]
  },
  {
   "cell_type": "code",
   "execution_count": 4,
   "metadata": {
    "collapsed": false
   },
   "outputs": [
    {
     "name": "stdout",
     "output_type": "stream",
     "text": [
      " Can not find specfied filename to read \n"
     ]
    }
   ],
   "source": [
    "#this file did not create coz of 'r' tag i.e, read permissions\n",
    "try:\n",
    "    c = open('file1.txt', 'r')\n",
    "    c.write('Test write this line')\n",
    "except IOError: # This will only check for an IOError exception and then execute this print statement\n",
    "    print ' Can not find specfied filename to read '\n",
    "else:\n",
    "    print 'Content written successfully'\n",
    "    c.close()"
   ]
  },
  {
   "cell_type": "code",
   "execution_count": 5,
   "metadata": {
    "collapsed": false
   },
   "outputs": [
    {
     "name": "stdout",
     "output_type": "stream",
     "text": [
      " Can not find specfied filename to read \n",
      "Finally blocks are always executed\n"
     ]
    }
   ],
   "source": [
    "try:\n",
    "    d = open('file1.txt', 'r')\n",
    "    d.write('Test write this line')\n",
    "except: # This will check for any exception and then execute this print statement\n",
    "    print ' Can not find specfied filename to read '\n",
    "else:\n",
    "    print 'Content written successfully'\n",
    "finally:\n",
    "    print 'Finally blocks are always executed'\n",
    "    c.close()"
   ]
  },
  {
   "cell_type": "code",
   "execution_count": null,
   "metadata": {
    "collapsed": false
   },
   "outputs": [],
   "source": [
    "def askint():\n",
    "    \n",
    "    while True:\n",
    "        \n",
    "        try:\n",
    "            val = int(raw_input('Enter an Integer'))\n",
    "        except:\n",
    "            print 'It is not an integer '\n",
    "            print 'Please enter an integer'\n",
    "            val = int(raw_input('Enter an Integer'))\n",
    "            continue\n",
    "        else:\n",
    "            print 'It is an integer'\n",
    "            break\n",
    "        finally:\n",
    "            print 'This is finally block'\n",
    "        \n",
    "        print val\n",
    "        \n",
    "        "
   ]
  },
  {
   "cell_type": "code",
   "execution_count": null,
   "metadata": {
    "collapsed": true
   },
   "outputs": [],
   "source": [
    "askint()"
   ]
  },
  {
   "cell_type": "code",
   "execution_count": null,
   "metadata": {
    "collapsed": true
   },
   "outputs": [],
   "source": []
  },
  {
   "cell_type": "code",
   "execution_count": null,
   "metadata": {
    "collapsed": true
   },
   "outputs": [],
   "source": []
  }
 ],
 "metadata": {
  "kernelspec": {
   "display_name": "Python 2",
   "language": "python",
   "name": "python2"
  },
  "language_info": {
   "codemirror_mode": {
    "name": "ipython",
    "version": 2
   },
   "file_extension": ".py",
   "mimetype": "text/x-python",
   "name": "python",
   "nbconvert_exporter": "python",
   "pygments_lexer": "ipython2",
   "version": "2.7.11"
  }
 },
 "nbformat": 4,
 "nbformat_minor": 0
}
