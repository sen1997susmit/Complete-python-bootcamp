{
 "cells": [
  {
   "cell_type": "markdown",
   "metadata": {},
   "source": [
    "# Regular Expressions\n",
    "Regular expressions are text matching patterns described with a formal syntax. \n",
    "\n",
    "You'll often hear regular expressions referred to as 'regex' or 'regexp' in conversation. Regular expressions can include a variety of rules, fro finding repetition, to text-matching, and much more. \n",
    "\n",
    "##### As you advance in Python you'll see that a lot of your parsing problems can be solved with regular expressions (they're also a common interview question!).\n",
    "\n",
    "If you're familiar with Perl, you'll notice that the syntax for regular expressions are very similar in Python. We will be using the re module with Python for this lecture."
   ]
  },
  {
   "cell_type": "markdown",
   "metadata": {},
   "source": [
    "### Searching for pattern using regex"
   ]
  },
  {
   "cell_type": "code",
   "execution_count": 1,
   "metadata": {
    "collapsed": true
   },
   "outputs": [],
   "source": [
    "import re"
   ]
  },
  {
   "cell_type": "code",
   "execution_count": 2,
   "metadata": {
    "collapsed": false
   },
   "outputs": [
    {
     "name": "stdout",
     "output_type": "stream",
     "text": [
      "Searching for \"term1\" in : \n",
      " \"This is string with term1, not with other\"\n",
      "Match was found\n",
      "Searching for \"term2\" in : \n",
      " \"This is string with term1, not with other\"\n",
      "Match was not Found\n"
     ]
    }
   ],
   "source": [
    "#List of patterns to search for\n",
    "patterns = ['term1', 'term2']\n",
    "\n",
    "#Text to parse\n",
    "text = 'This is string with term1, not with other'\n",
    "\n",
    "for pattern in patterns:\n",
    "    print 'Searching for \"%s\" in : \\n \"%s\"'%(pattern,text)\n",
    "    \n",
    "    if re.search(pattern,text):\n",
    "        print 'Match was found'\n",
    "    else:\n",
    "        print 'Match was not Found'\n",
    "    "
   ]
  },
  {
   "cell_type": "markdown",
   "metadata": {},
   "source": [
    "Now we've seen that re.search() will take the pattern, scan the text, \n",
    "and then returns a Match object. If no pattern is found, a None is returned. \n",
    "\n",
    "To give a clearer picture of this match object, check out the cell below:"
   ]
  },
  {
   "cell_type": "code",
   "execution_count": 11,
   "metadata": {
    "collapsed": false
   },
   "outputs": [
    {
     "data": {
      "text/plain": [
       "_sre.SRE_Match"
      ]
     },
     "execution_count": 11,
     "metadata": {},
     "output_type": "execute_result"
    }
   ],
   "source": [
    " #List of patterns to search for\n",
    "pattern = 'have'\n",
    "\n",
    "# Text to parse\n",
    "text = 'This is a string with term1, but it does not have the other term.'\n",
    "\n",
    "match = re.search(pattern,  text)\n",
    "\n",
    "type(match)"
   ]
  },
  {
   "cell_type": "markdown",
   "metadata": {},
   "source": [
    "This Match object returned by the search() method is more than just a Boolean or None, \n",
    "it contains information about the match, including the original input string, the regular expression that was used, and the location of the match. Let's see the methods we can use on the match object:"
   ]
  },
  {
   "cell_type": "code",
   "execution_count": 12,
   "metadata": {
    "collapsed": false
   },
   "outputs": [
    {
     "data": {
      "text/plain": [
       "45"
      ]
     },
     "execution_count": 12,
     "metadata": {},
     "output_type": "execute_result"
    }
   ],
   "source": [
    "match.start()"
   ]
  },
  {
   "cell_type": "code",
   "execution_count": 13,
   "metadata": {
    "collapsed": false
   },
   "outputs": [
    {
     "data": {
      "text/plain": [
       "49"
      ]
     },
     "execution_count": 13,
     "metadata": {},
     "output_type": "execute_result"
    }
   ],
   "source": [
    "match.end()"
   ]
  },
  {
   "cell_type": "markdown",
   "metadata": {},
   "source": [
    "# Split with Regex"
   ]
  },
  {
   "cell_type": "code",
   "execution_count": 14,
   "metadata": {
    "collapsed": false
   },
   "outputs": [
    {
     "data": {
      "text/plain": [
       "['My Email is dc', 'gmail.com']"
      ]
     },
     "execution_count": 14,
     "metadata": {},
     "output_type": "execute_result"
    }
   ],
   "source": [
    "splitby = \"@\"\n",
    "\n",
    "phrase = 'My Email is dc@gmail.com'\n",
    "\n",
    "re.split(splitby,phrase)"
   ]
  },
  {
   "cell_type": "markdown",
   "metadata": {},
   "source": [
    "# Finding all instances of a pattern"
   ]
  },
  {
   "cell_type": "code",
   "execution_count": 15,
   "metadata": {
    "collapsed": false
   },
   "outputs": [
    {
     "data": {
      "text/plain": [
       "['hey', 'hey']"
      ]
     },
     "execution_count": 15,
     "metadata": {},
     "output_type": "execute_result"
    }
   ],
   "source": [
    "#Lists all matches\n",
    "\n",
    "re.findall('hey', 'hey hi hello hey how are you')"
   ]
  },
  {
   "cell_type": "markdown",
   "metadata": {},
   "source": [
    "# Pattern re Syntax\n",
    "\n",
    "This will be the bulk of this lecture on using re with Python. Regular expressions supports a huge variety of patterns the just simply finding where a single string occurred.\n",
    "\n",
    "We can use metacharacters along with re to find specific types of patterns.\n",
    "\n",
    "Since we will be testing multiple re syntax forms, let's create a function that will print out results given a list of various regular expressions and a phrase to parse:"
   ]
  },
  {
   "cell_type": "code",
   "execution_count": 16,
   "metadata": {
    "collapsed": true
   },
   "outputs": [],
   "source": [
    "def multi_find(patterns,phrase):\n",
    "    \n",
    "    for pattern in patterns:\n",
    "        \n",
    "        print 'This is the phrase : %r' %pattern\n",
    "        print re.findall(pattern,phrase)"
   ]
  },
  {
   "cell_type": "markdown",
   "metadata": {},
   "source": [
    "# Repetition Syntax\n",
    "There are five ways to express repetition in a pattern:\n",
    "\n",
    "1.) A pattern followed by the meta-character * is repeated zero or more times.\n",
    "\n",
    "2.) Replace the * with + and the pattern must appear at least once. \n",
    "\n",
    "3.) Using ? means the pattern appears zero or one time. \n",
    "\n",
    "4.) For a specific number of occurrences, use {m} after the pattern, where m is replaced with the number of times         the pattern should repeat. \n",
    "\n",
    "5.) Use {m,n} where m is the minimum number of repetitions and n is the maximum. Leaving out n ({m,}) means the           value appears at least m times, with no maximum.\n"
   ]
  },
  {
   "cell_type": "code",
   "execution_count": 18,
   "metadata": {
    "collapsed": false
   },
   "outputs": [
    {
     "name": "stdout",
     "output_type": "stream",
     "text": [
      "This is the phrase : 'sd*'\n",
      "['sd', 'sd', 's', 's', 'sddd', 'sddd', 'sddd', 'sd', 's', 's', 's', 's', 's', 's', 'sdddd']\n",
      "This is the phrase : 'sd+'\n",
      "['sd', 'sd', 'sddd', 'sddd', 'sddd', 'sd', 'sdddd']\n",
      "This is the phrase : 'sd?'\n",
      "['sd', 'sd', 's', 's', 'sd', 'sd', 'sd', 'sd', 's', 's', 's', 's', 's', 's', 'sd']\n",
      "This is the phrase : 'sd{3}'\n",
      "['sddd', 'sddd', 'sddd', 'sddd']\n",
      "This is the phrase : 'sd{2,3}'\n",
      "['sddd', 'sddd', 'sddd', 'sddd']\n"
     ]
    }
   ],
   "source": [
    "test_phrase = 'sdsd..sssddd...sdddsddd...dsds...dsssss...sdddd'\n",
    "\n",
    "test_patterns = [ 'sd*',     # s followed by zero or more d's\n",
    "                'sd+',          # s followed by one or more d's\n",
    "                'sd?',          # s followed by zero or one d's\n",
    "                'sd{3}',        # s followed by three d's\n",
    "                'sd{2,3}',      # s followed by two to three d's\n",
    "                ]\n",
    "\n",
    "multi_find(test_patterns,test_phrase)"
   ]
  },
  {
   "cell_type": "markdown",
   "metadata": {},
   "source": [
    "# Character Sets\n",
    "\n",
    "Character sets are used when you wish to match any one of a group of characters at a point in the input. Brackets are used to construct character set inputs. For example: the input [ab] searches for occurrences of either a or b."
   ]
  },
  {
   "cell_type": "code",
   "execution_count": 20,
   "metadata": {
    "collapsed": false
   },
   "outputs": [
    {
     "name": "stdout",
     "output_type": "stream",
     "text": [
      "This is the phrase : '[sd]'\n",
      "['s', 'd', 's', 'd', 's', 's', 's', 'd', 'd', 'd', 's', 'd', 'd', 'd', 's', 'd', 'd', 'd', 'd', 's', 'd', 's', 'd', 's', 's', 's', 's', 's', 's', 'd', 'd', 'd', 'd']\n",
      "This is the phrase : 's[sd]+'\n",
      "['sdsd', 'sssddd', 'sdddsddd', 'sds', 'sssss', 'sdddd']\n"
     ]
    }
   ],
   "source": [
    "test_phrase = 'sdsd..sssddd...sdddsddd...dsds...dsssss...sdddd'\n",
    "\n",
    "test_patterns = [ '[sd]',     # either s or d\n",
    "                 \n",
    "                 's[sd]+'      # s followed by either s or d \n",
    "                ]\n",
    "\n",
    "multi_find(test_patterns,test_phrase)"
   ]
  },
  {
   "cell_type": "markdown",
   "metadata": {},
   "source": [
    "it makes sense that the first [sd] returns every instance. \n",
    "\n",
    "Also the second input will just return any thing starting with an s in this particular case of the test phrase input."
   ]
  },
  {
   "cell_type": "markdown",
   "metadata": {},
   "source": [
    "# Exclusion\n",
    "We can use ^ to exclude terms by incorporating it into the bracket syntax notation. \n",
    "\n",
    "For example: [^...] will match any single character not in the brackets."
   ]
  },
  {
   "cell_type": "code",
   "execution_count": 21,
   "metadata": {
    "collapsed": true
   },
   "outputs": [],
   "source": [
    "test_phrase = 'This is a string! But it has punctuation. How can we remove it?'"
   ]
  },
  {
   "cell_type": "markdown",
   "metadata": {},
   "source": [
    "Use [^!.? ] to check for matches that are not a !,.,?, or space.\n",
    "\n",
    "Add the + to check that the match appears at least once, \n",
    "\n",
    "this basically translate into finding the words."
   ]
  },
  {
   "cell_type": "code",
   "execution_count": 23,
   "metadata": {
    "collapsed": false
   },
   "outputs": [
    {
     "data": {
      "text/plain": [
       "['This is a string', ' But it has punctuation', ' How can we remove it']"
      ]
     },
     "execution_count": 23,
     "metadata": {},
     "output_type": "execute_result"
    }
   ],
   "source": [
    "re.findall('[^!.?]+',test_phrase)"
   ]
  },
  {
   "cell_type": "markdown",
   "metadata": {},
   "source": [
    "# Character Ranges\n",
    "\n",
    "As character sets grow larger, typing every character that should (or should not) match could become very tedious.\n",
    "\n",
    "A more compact format using character ranges lets you define a character set to include all of the contiguous characters between a start and stop point. The format used is [start-end].\n",
    "\n",
    "Common use cases are to search for a specific range of letters in the alphabet, such [a-f] would return matches with any instance of letters between a and f."
   ]
  },
  {
   "cell_type": "code",
   "execution_count": 24,
   "metadata": {
    "collapsed": false
   },
   "outputs": [
    {
     "name": "stdout",
     "output_type": "stream",
     "text": [
      "This is the phrase : '[a-z]+'\n",
      "['his', 'is', 'an', 'example', 'sentence', 'ets', 'see', 'if', 'we', 'can', 'find', 'some', 'letters']\n",
      "This is the phrase : '[A-Z]+'\n",
      "['T', 'L']\n",
      "This is the phrase : '[a-zA-Z]+'\n",
      "['This', 'is', 'an', 'example', 'sentence', 'Lets', 'see', 'if', 'we', 'can', 'find', 'some', 'letters']\n",
      "This is the phrase : '[A-Z][a-z]+'\n",
      "['This', 'Lets']\n"
     ]
    }
   ],
   "source": [
    "test_phrase = 'This is an example sentence. Lets see if we can find some letters.'\n",
    "\n",
    "test_patterns=[ '[a-z]+',      # sequences of lower case letters\n",
    "                '[A-Z]+',      # sequences of upper case letters\n",
    "                '[a-zA-Z]+',   # sequences of lower or upper case letters\n",
    "                '[A-Z][a-z]+'] # one upper case letter followed by lower case letters\n",
    "                \n",
    "multi_find(test_patterns,test_phrase)\n"
   ]
  },
  {
   "cell_type": "markdown",
   "metadata": {},
   "source": [
    "# Escape Codes\n",
    "You can use special escape codes to find specific types of patterns in your data, such as digits, non-digits,whitespace, and more. \n",
    "\n",
    "Code\tMeaning\n",
    "\n",
    "\\d\ta digit\n",
    "\n",
    "\\D\ta non-digit\n",
    "\n",
    "\\s\twhitespace (tab, space, newline, etc.)\n",
    "\n",
    "\\S\tnon-whitespace\n",
    "\n",
    "\\w\talphanumeric\n",
    "\n",
    "\\W\tnon-alphanumeric\n",
    "\n",
    "Escapes are indicated by prefixing the character with a backslash (). Unfortunately, a backslash must itself be escaped in normal Python strings, \n",
    "\n",
    "and that results in expressions that are difficult to read. Using raw strings, created by prefixing the literal value with r,\n",
    "\n",
    "for creating regular expressions eliminates this problem and maintains readability."
   ]
  },
  {
   "cell_type": "code",
   "execution_count": 25,
   "metadata": {
    "collapsed": false
   },
   "outputs": [
    {
     "name": "stdout",
     "output_type": "stream",
     "text": [
      "This is the phrase : '\\\\d+'\n",
      "['1233']\n",
      "This is the phrase : '\\\\D+'\n",
      "['This is a string with some numbers ', ' and a symbol #hashtag']\n",
      "This is the phrase : '\\\\s+'\n",
      "[' ', ' ', ' ', ' ', ' ', ' ', ' ', ' ', ' ', ' ', ' ']\n",
      "This is the phrase : '\\\\S+'\n",
      "['This', 'is', 'a', 'string', 'with', 'some', 'numbers', '1233', 'and', 'a', 'symbol', '#hashtag']\n",
      "This is the phrase : '\\\\w+'\n",
      "['This', 'is', 'a', 'string', 'with', 'some', 'numbers', '1233', 'and', 'a', 'symbol', 'hashtag']\n",
      "This is the phrase : '\\\\W+'\n",
      "[' ', ' ', ' ', ' ', ' ', ' ', ' ', ' ', ' ', ' ', ' #']\n"
     ]
    }
   ],
   "source": [
    "test_phrase = 'This is a string with some numbers 1233 and a symbol #hashtag'\n",
    "\n",
    "test_patterns=[ r'\\d+', # sequence of digits\n",
    "                r'\\D+', # sequence of non-digits\n",
    "                r'\\s+', # sequence of whitespace\n",
    "                r'\\S+', # sequence of non-whitespace\n",
    "                r'\\w+', # alphanumeric characters\n",
    "                r'\\W+', # non-alphanumeric\n",
    "                ]\n",
    "\n",
    "multi_find(test_patterns,test_phrase)"
   ]
  },
  {
   "cell_type": "code",
   "execution_count": null,
   "metadata": {
    "collapsed": true
   },
   "outputs": [],
   "source": []
  }
 ],
 "metadata": {
  "kernelspec": {
   "display_name": "Python 2",
   "language": "python",
   "name": "python2"
  },
  "language_info": {
   "codemirror_mode": {
    "name": "ipython",
    "version": 2
   },
   "file_extension": ".py",
   "mimetype": "text/x-python",
   "name": "python",
   "nbconvert_exporter": "python",
   "pygments_lexer": "ipython2",
   "version": "2.7.11"
  }
 },
 "nbformat": 4,
 "nbformat_minor": 0
}
