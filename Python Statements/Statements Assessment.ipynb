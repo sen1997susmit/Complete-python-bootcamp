{
 "cells": [
  {
   "cell_type": "markdown",
   "metadata": {
    "collapsed": true
   },
   "source": [
    "# Statements Assessment Test\n",
    "Lets test your knowledge!"
   ]
  },
  {
   "cell_type": "markdown",
   "metadata": {},
   "source": [
    "_____\n",
    "**Use for, split(), and if to create a Statement that will print out words that start with 's':**"
   ]
  },
  {
   "cell_type": "code",
   "execution_count": 40,
   "metadata": {
    "collapsed": true
   },
   "outputs": [],
   "source": [
    "st = 'Print only the words that start with s in this sentence'"
   ]
  },
  {
   "cell_type": "code",
   "execution_count": 45,
   "metadata": {
    "collapsed": false
   },
   "outputs": [
    {
     "name": "stdout",
     "output_type": "stream",
     "text": [
      "start\n",
      "s\n",
      "sentence\n"
     ]
    }
   ],
   "source": [
    "#Code here\n",
    "for word in st.split():\n",
    "    if word[0]=='s':\n",
    "        print word"
   ]
  },
  {
   "cell_type": "markdown",
   "metadata": {},
   "source": [
    "______\n",
    "**Use range() to print all the even numbers from 0 to 10.**"
   ]
  },
  {
   "cell_type": "code",
   "execution_count": 6,
   "metadata": {
    "collapsed": false
   },
   "outputs": [
    {
     "data": {
      "text/plain": [
       "[0, 1, 2, 3, 4, 5, 6, 7, 8, 9, 10]"
      ]
     },
     "execution_count": 6,
     "metadata": {},
     "output_type": "execute_result"
    }
   ],
   "source": [
    "#Code Here\n",
    "r = range(0,11)\n",
    "r"
   ]
  },
  {
   "cell_type": "markdown",
   "metadata": {},
   "source": [
    "___\n",
    "**Use List comprehension to create a list of all numbers between 1 and 50 that are divisible by 3.**"
   ]
  },
  {
   "cell_type": "code",
   "execution_count": 53,
   "metadata": {
    "collapsed": false
   },
   "outputs": [
    {
     "data": {
      "text/plain": [
       "[3, 6, 9, 12, 15, 18, 21, 24, 27, 30, 33, 36, 39, 42, 45, 48]"
      ]
     },
     "execution_count": 53,
     "metadata": {},
     "output_type": "execute_result"
    }
   ],
   "source": [
    "#Code in this cell\n",
    "\n",
    "#for x in range(1,51):\n",
    " #   if x%3==0:\n",
    "#print x\n",
    "\n",
    "[x for x in range(1,51) if x%3==0]\n"
   ]
  },
  {
   "cell_type": "markdown",
   "metadata": {},
   "source": [
    "_____\n",
    "**Go through the string below and if the length of a word is even print \"even!\"**"
   ]
  },
  {
   "cell_type": "code",
   "execution_count": 54,
   "metadata": {
    "collapsed": true
   },
   "outputs": [],
   "source": [
    "st = 'Print every word in this sentence that has an even number of letters'"
   ]
  },
  {
   "cell_type": "code",
   "execution_count": 61,
   "metadata": {
    "collapsed": false
   },
   "outputs": [
    {
     "name": "stdout",
     "output_type": "stream",
     "text": [
      "word\n",
      "in\n",
      "this\n",
      "sentence\n",
      "that\n",
      "an\n",
      "even\n",
      "number\n",
      "of\n"
     ]
    }
   ],
   "source": [
    "#Code in this cell\n",
    "\n",
    "for word in st.split():\n",
    "    if len(word)%2==0:\n",
    "        print word\n"
   ]
  },
  {
   "cell_type": "markdown",
   "metadata": {},
   "source": [
    "____\n",
    "**Write a program that prints the integers from 1 to 100. But for multiples of three print \"Fizz\" instead of the number, and for the multiples of five print \"Buzz\". For numbers which are multiples of both three and five print \"FizzBuzz\".**"
   ]
  },
  {
   "cell_type": "code",
   "execution_count": 77,
   "metadata": {
    "collapsed": false
   },
   "outputs": [
    {
     "name": "stdout",
     "output_type": "stream",
     "text": [
      "Not Divisible by either 3 or 5\n",
      "Not Divisible by either 3 or 5\n",
      "Fizz\n",
      "Not Divisible by either 3 or 5\n",
      "Buzz\n",
      "Fizz\n",
      "Not Divisible by either 3 or 5\n",
      "Not Divisible by either 3 or 5\n",
      "Fizz\n",
      "Buzz\n",
      "Not Divisible by either 3 or 5\n",
      "Fizz\n",
      "Not Divisible by either 3 or 5\n",
      "Not Divisible by either 3 or 5\n",
      "FizzBuzz\n",
      "Not Divisible by either 3 or 5\n",
      "Not Divisible by either 3 or 5\n",
      "Fizz\n",
      "Not Divisible by either 3 or 5\n",
      "Buzz\n",
      "Fizz\n",
      "Not Divisible by either 3 or 5\n",
      "Not Divisible by either 3 or 5\n",
      "Fizz\n",
      "Buzz\n",
      "Not Divisible by either 3 or 5\n",
      "Fizz\n",
      "Not Divisible by either 3 or 5\n",
      "Not Divisible by either 3 or 5\n",
      "FizzBuzz\n",
      "Not Divisible by either 3 or 5\n",
      "Not Divisible by either 3 or 5\n",
      "Fizz\n",
      "Not Divisible by either 3 or 5\n",
      "Buzz\n",
      "Fizz\n",
      "Not Divisible by either 3 or 5\n",
      "Not Divisible by either 3 or 5\n",
      "Fizz\n",
      "Buzz\n",
      "Not Divisible by either 3 or 5\n",
      "Fizz\n",
      "Not Divisible by either 3 or 5\n",
      "Not Divisible by either 3 or 5\n",
      "FizzBuzz\n",
      "Not Divisible by either 3 or 5\n",
      "Not Divisible by either 3 or 5\n",
      "Fizz\n",
      "Not Divisible by either 3 or 5\n",
      "Buzz\n",
      "Fizz\n",
      "Not Divisible by either 3 or 5\n",
      "Not Divisible by either 3 or 5\n",
      "Fizz\n",
      "Buzz\n",
      "Not Divisible by either 3 or 5\n",
      "Fizz\n",
      "Not Divisible by either 3 or 5\n",
      "Not Divisible by either 3 or 5\n",
      "FizzBuzz\n",
      "Not Divisible by either 3 or 5\n",
      "Not Divisible by either 3 or 5\n",
      "Fizz\n",
      "Not Divisible by either 3 or 5\n",
      "Buzz\n",
      "Fizz\n",
      "Not Divisible by either 3 or 5\n",
      "Not Divisible by either 3 or 5\n",
      "Fizz\n",
      "Buzz\n",
      "Not Divisible by either 3 or 5\n",
      "Fizz\n",
      "Not Divisible by either 3 or 5\n",
      "Not Divisible by either 3 or 5\n",
      "FizzBuzz\n",
      "Not Divisible by either 3 or 5\n",
      "Not Divisible by either 3 or 5\n",
      "Fizz\n",
      "Not Divisible by either 3 or 5\n",
      "Buzz\n",
      "Fizz\n",
      "Not Divisible by either 3 or 5\n",
      "Not Divisible by either 3 or 5\n",
      "Fizz\n",
      "Buzz\n",
      "Not Divisible by either 3 or 5\n",
      "Fizz\n",
      "Not Divisible by either 3 or 5\n",
      "Not Divisible by either 3 or 5\n",
      "FizzBuzz\n",
      "Not Divisible by either 3 or 5\n",
      "Not Divisible by either 3 or 5\n",
      "Fizz\n",
      "Not Divisible by either 3 or 5\n",
      "Buzz\n",
      "Fizz\n",
      "Not Divisible by either 3 or 5\n",
      "Not Divisible by either 3 or 5\n",
      "Fizz\n",
      "Buzz\n"
     ]
    }
   ],
   "source": [
    "#Code in this cell\n",
    "\n",
    "for x in range(1,101):\n",
    "    if x%3==0 and x%5==0:\n",
    "        print 'FizzBuzz'\n",
    "    elif x%3==0:\n",
    "        print 'Fizz'\n",
    "    elif x%5==0:\n",
    "        print 'Buzz'\n",
    "    else:\n",
    "        print 'Not Divisible by either 3 or 5'"
   ]
  },
  {
   "cell_type": "markdown",
   "metadata": {},
   "source": [
    "____\n",
    "**Use List Comprehension to create a list of the first letters of every word in the string below:**"
   ]
  },
  {
   "cell_type": "code",
   "execution_count": 62,
   "metadata": {
    "collapsed": true
   },
   "outputs": [],
   "source": [
    "st = 'Create a list of the first letters of every word in this string'"
   ]
  },
  {
   "cell_type": "code",
   "execution_count": 66,
   "metadata": {
    "collapsed": false
   },
   "outputs": [
    {
     "data": {
      "text/plain": [
       "['C', 'a', 'l', 'o', 't', 'f', 'l', 'o', 'e', 'w', 'i', 't', 's']"
      ]
     },
     "execution_count": 66,
     "metadata": {},
     "output_type": "execute_result"
    }
   ],
   "source": [
    "#Code in this cell\n",
    "[x[0] for x in st.split()]"
   ]
  },
  {
   "cell_type": "markdown",
   "metadata": {},
   "source": [
    "### Great Job!"
   ]
  }
 ],
 "metadata": {
  "kernelspec": {
   "display_name": "Python 2",
   "language": "python",
   "name": "python2"
  },
  "language_info": {
   "codemirror_mode": {
    "name": "ipython",
    "version": 2
   },
   "file_extension": ".py",
   "mimetype": "text/x-python",
   "name": "python",
   "nbconvert_exporter": "python",
   "pygments_lexer": "ipython2",
   "version": "2.7.11"
  }
 },
 "nbformat": 4,
 "nbformat_minor": 0
}
