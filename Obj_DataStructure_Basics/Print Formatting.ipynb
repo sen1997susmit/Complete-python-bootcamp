{
 "cells": [
  {
   "cell_type": "code",
   "execution_count": 1,
   "metadata": {
    "collapsed": false
   },
   "outputs": [
    {
     "name": "stdout",
     "output_type": "stream",
     "text": [
      "Hello World!\n"
     ]
    }
   ],
   "source": [
    "#Basic Example of Print Formatting\n",
    "print 'Hello World!'"
   ]
  },
  {
   "cell_type": "code",
   "execution_count": 3,
   "metadata": {
    "collapsed": false
   },
   "outputs": [
    {
     "name": "stdout",
     "output_type": "stream",
     "text": [
      "Hello World\n"
     ]
    }
   ],
   "source": [
    "s = 'Hello World'\n",
    "print s"
   ]
  },
  {
   "cell_type": "code",
   "execution_count": 5,
   "metadata": {
    "collapsed": false
   },
   "outputs": [
    {
     "name": "stdout",
     "output_type": "stream",
     "text": [
      "We can also print Strings with a mod and variable name Hello World\n"
     ]
    }
   ],
   "source": [
    "print 'We can also print Strings with a mod and variable name %s' %(s)"
   ]
  },
  {
   "cell_type": "markdown",
   "metadata": {},
   "source": [
    "Floating Point Numbers\n",
    "Floating point numbers use the format %n1.n2f where the n1 is the total minimum number of digits the string should contain (these may be filled with whitespace if the entire number does not have this many digits. The n2 placeholder stands for how many numbers to show past the decimal point."
   ]
  },
  {
   "cell_type": "code",
   "execution_count": 6,
   "metadata": {
    "collapsed": false
   },
   "outputs": [
    {
     "name": "stdout",
     "output_type": "stream",
     "text": [
      "Floating Point Numbers : 1.22\n"
     ]
    }
   ],
   "source": [
    "#Examples of floating point numbers\n",
    "print 'Floating Point Numbers : %1.2f' %(1.22334455)"
   ]
  },
  {
   "cell_type": "code",
   "execution_count": 7,
   "metadata": {
    "collapsed": false
   },
   "outputs": [
    {
     "name": "stdout",
     "output_type": "stream",
     "text": [
      "Floating Point Numbers : 1.2233\n"
     ]
    }
   ],
   "source": [
    "print 'Floating Point Numbers : %1.4f' %(1.22334455)"
   ]
  },
  {
   "cell_type": "code",
   "execution_count": 11,
   "metadata": {
    "collapsed": false
   },
   "outputs": [
    {
     "name": "stdout",
     "output_type": "stream",
     "text": [
      "Floating Point Numbers :    1.2233445499999999750428969\n"
     ]
    }
   ],
   "source": [
    "print 'Floating Point Numbers : %30.25f' %(1.22334455)"
   ]
  },
  {
   "cell_type": "code",
   "execution_count": 12,
   "metadata": {
    "collapsed": false
   },
   "outputs": [
    {
     "name": "stdout",
     "output_type": "stream",
     "text": [
      "This is one number : 123 and this is another number : 'Python'\n"
     ]
    }
   ],
   "source": [
    "#Calling two values into print string\n",
    "print 'This is one number : %s and this is another number : %r' %(123, \"Python\")"
   ]
  },
  {
   "cell_type": "code",
   "execution_count": 14,
   "metadata": {
    "collapsed": false
   },
   "outputs": [
    {
     "name": "stdout",
     "output_type": "stream",
     "text": [
      "This is one number : 123 and this is another number : 'Python'. This is Decimal number : 3.15\n"
     ]
    }
   ],
   "source": [
    "#Multiple Formatting\n",
    "print 'This is one number : %s and this is another number : %r. This is Decimal number : %1.2f' %(123, \"Python\", 3.1456)"
   ]
  },
  {
   "cell_type": "markdown",
   "metadata": {},
   "source": [
    "# Using the string .format() method\n",
    "The best way to format objects into your strings for print statements is using the format method. The syntax is:\n",
    "'String here {var1} then also {var2}'.format(var1='something1',var2='something2')\n"
   ]
  },
  {
   "cell_type": "code",
   "execution_count": 15,
   "metadata": {
    "collapsed": false
   },
   "outputs": [
    {
     "name": "stdout",
     "output_type": "stream",
     "text": [
      "This is Object 1: Hey, this is Object2: 123 and this is another object: 2.057\n"
     ]
    }
   ],
   "source": [
    "print 'This is Object 1: %s, this is Object2: %s and this is another object: %1.3f'%(\"Hey\", 123, 2.0567)"
   ]
  },
  {
   "cell_type": "markdown",
   "metadata": {},
   "source": [
    "# That is the basics of string formatting! Remember that Python 3 uses a print() function, not the print statement!"
   ]
  }
 ],
 "metadata": {
  "kernelspec": {
   "display_name": "Python 2",
   "language": "python",
   "name": "python2"
  },
  "language_info": {
   "codemirror_mode": {
    "name": "ipython",
    "version": 2
   },
   "file_extension": ".py",
   "mimetype": "text/x-python",
   "name": "python",
   "nbconvert_exporter": "python",
   "pygments_lexer": "ipython2",
   "version": "2.7.11"
  }
 },
 "nbformat": 4,
 "nbformat_minor": 0
}
